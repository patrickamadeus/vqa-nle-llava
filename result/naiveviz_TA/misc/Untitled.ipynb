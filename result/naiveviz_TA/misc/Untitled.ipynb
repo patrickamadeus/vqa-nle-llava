{
 "cells": [
  {
   "cell_type": "code",
   "execution_count": 1,
   "id": "f2a167aa",
   "metadata": {},
   "outputs": [],
   "source": [
    "import os\n",
    "with open('primary.txt','r') as f:\n",
    "    f = f.readlines()\n",
    "\n",
    "f = [i for i in f if (i.startswith(\"Question:\") or i.startswith(\"Short Answer:\") or i.startswith(\"Reason:\"))]\n",
    "\n",
    "with open('clean.txt','w') as ff:\n",
    "    ff.write(''.join(f))"
   ]
  }
 ],
 "metadata": {
  "kernelspec": {
   "display_name": "Patrick (Main)",
   "language": "python",
   "name": "main_env"
  },
  "language_info": {
   "codemirror_mode": {
    "name": "ipython",
    "version": 3
   },
   "file_extension": ".py",
   "mimetype": "text/x-python",
   "name": "python",
   "nbconvert_exporter": "python",
   "pygments_lexer": "ipython3",
   "version": "3.8.13"
  }
 },
 "nbformat": 4,
 "nbformat_minor": 5
}
