{
 "cells": [
  {
   "cell_type": "code",
   "execution_count": 2,
   "id": "adfcd978",
   "metadata": {},
   "outputs": [],
   "source": [
    "import os\n",
    "with open('raw.txt','r') as f:\n",
    "    f = f.readlines()\n",
    "\n",
    "f = [i for i in f if (i.startswith(\"Question:\") or i.startswith(\"Short Answer:\") or i.startswith(\"Reason:\") or i.startswith(\"Choice\") or i.startswith(\"Thought\") or i.startswith(\"Action\"))]\n",
    "\n",
    "with open('clean.txt','w') as ff:\n",
    "    ff.write(''.join(f))"
   ]
  }
 ],
 "metadata": {
  "kernelspec": {
   "display_name": "Patrick (Main)",
   "language": "python",
   "name": "main_env"
  },
  "language_info": {
   "codemirror_mode": {
    "name": "ipython",
    "version": 3
   },
   "file_extension": ".py",
   "mimetype": "text/x-python",
   "name": "python",
   "nbconvert_exporter": "python",
   "pygments_lexer": "ipython3",
   "version": "3.8.13"
  }
 },
 "nbformat": 4,
 "nbformat_minor": 5
}
