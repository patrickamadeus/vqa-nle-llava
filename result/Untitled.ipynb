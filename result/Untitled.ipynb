{
 "cells": [
  {
   "cell_type": "code",
   "execution_count": 12,
   "id": "c1ac1414",
   "metadata": {},
   "outputs": [
    {
     "name": "stdout",
     "output_type": "stream",
     "text": [
      "10-4_vicuna7_naive-optim_500\n",
      "7.269129287598944\n",
      "6.007915567282322\n",
      "24.179419525065963\n",
      "\n",
      "10-4_vicuna13_naive-optim_500\n",
      "8.540918163672655\n",
      "3.8622754491017965\n",
      "21.54690618762475\n",
      "\n",
      "10-4_vicuna13-vip_nonvis-optim_500\n",
      "8.57319587628866\n",
      "5.544329896907216\n",
      "17.587628865979383\n",
      "\n",
      "vicuna13_1.6_self-const-limit\n",
      "11.135\n",
      "2.71\n",
      "38.05\n",
      "\n",
      "human\n",
      "8.7\n",
      "3.92\n",
      "17.03\n",
      "\n"
     ]
    }
   ],
   "source": [
    "l = [\n",
    "    \"10-4_vicuna7_naive-optim_500\",\n",
    "    \"10-4_vicuna13_naive-optim_500\",\n",
    "    \"10-4_vicuna13-vip_nonvis-optim_500\",\n",
    "    \"vicuna13_1.6_self-const-limit\",\n",
    "    \"human\"\n",
    "]\n",
    "\n",
    "import json\n",
    "\n",
    "for test in l:\n",
    "    q = 0\n",
    "    a = 0\n",
    "    r = 0\n",
    "\n",
    "    with open(f'./{test}/res.json', 'r') as f:\n",
    "        d = json.load(f)\n",
    "    \n",
    "    for i in d:\n",
    "        q += len(i['question'].split(' '))\n",
    "        a += len(i['short_answer'].split(' '))\n",
    "        r += len(i['reasoned_answer'].split(' '))\n",
    "    \n",
    "    print(test)\n",
    "    print(q / len(d))\n",
    "    print(a / len(d))\n",
    "    print(r / len(d))\n",
    "    print()"
   ]
  },
  {
   "cell_type": "code",
   "execution_count": 2,
   "id": "6b8a1668",
   "metadata": {},
   "outputs": [
    {
     "name": "stdout",
     "output_type": "stream",
     "text": [
      "Looking in indexes: https://pypi.org/simple, https://pypi.ngc.nvidia.com\n",
      "Collecting seaborn\n",
      "  Downloading seaborn-0.13.2-py3-none-any.whl (294 kB)\n",
      "\u001b[K     |████████████████████████████████| 294 kB 3.6 MB/s eta 0:00:01\n",
      "\u001b[?25hRequirement already satisfied: pandas>=1.2 in /opt/conda/lib/python3.8/site-packages (from seaborn) (1.3.5)\n",
      "Requirement already satisfied: numpy!=1.24.0,>=1.20 in /opt/conda/lib/python3.8/site-packages (from seaborn) (1.22.3)\n",
      "Requirement already satisfied: matplotlib!=3.6.1,>=3.4 in /opt/conda/lib/python3.8/site-packages (from seaborn) (3.5.2)\n",
      "Requirement already satisfied: packaging>=20.0 in /opt/conda/lib/python3.8/site-packages (from matplotlib!=3.6.1,>=3.4->seaborn) (21.3)\n",
      "Requirement already satisfied: pyparsing>=2.2.1 in /opt/conda/lib/python3.8/site-packages (from matplotlib!=3.6.1,>=3.4->seaborn) (3.0.8)\n",
      "Requirement already satisfied: kiwisolver>=1.0.1 in /opt/conda/lib/python3.8/site-packages (from matplotlib!=3.6.1,>=3.4->seaborn) (1.4.2)\n",
      "Requirement already satisfied: python-dateutil>=2.7 in /opt/conda/lib/python3.8/site-packages (from matplotlib!=3.6.1,>=3.4->seaborn) (2.8.2)\n",
      "Requirement already satisfied: fonttools>=4.22.0 in /opt/conda/lib/python3.8/site-packages (from matplotlib!=3.6.1,>=3.4->seaborn) (4.33.3)\n",
      "Requirement already satisfied: pillow>=6.2.0 in /opt/conda/lib/python3.8/site-packages (from matplotlib!=3.6.1,>=3.4->seaborn) (9.0.1)\n",
      "Requirement already satisfied: cycler>=0.10 in /opt/conda/lib/python3.8/site-packages (from matplotlib!=3.6.1,>=3.4->seaborn) (0.11.0)\n",
      "Requirement already satisfied: pytz>=2017.3 in /opt/conda/lib/python3.8/site-packages (from pandas>=1.2->seaborn) (2022.1)\n",
      "Requirement already satisfied: six>=1.5 in /opt/conda/lib/python3.8/site-packages (from python-dateutil>=2.7->matplotlib!=3.6.1,>=3.4->seaborn) (1.16.0)\n",
      "Installing collected packages: seaborn\n",
      "Successfully installed seaborn-0.13.2\n",
      "\u001b[33mWARNING: Running pip as the 'root' user can result in broken permissions and conflicting behaviour with the system package manager. It is recommended to use a virtual environment instead: https://pip.pypa.io/warnings/venv\u001b[0m\n"
     ]
    }
   ],
   "source": [
    "!pip install seaborn"
   ]
  },
  {
   "cell_type": "code",
   "execution_count": 21,
   "id": "75fa086a",
   "metadata": {},
   "outputs": [],
   "source": [
    "import seaborn as sns\n",
    "import matplotlib.pyplot as plt\n",
    "import pandas as pd\n",
    "\n",
    "df = pd.read_csv(r'eda_correl.csv')\n",
    "\n",
    "df['relevancy'] = 4 - df['irrelevancy']\n",
    "df.drop(columns = ['irrelevancy'], inplace = True)"
   ]
  },
  {
   "cell_type": "code",
   "execution_count": 22,
   "id": "8bc2bf4b",
   "metadata": {},
   "outputs": [
    {
     "data": {
      "text/html": [
       "<div>\n",
       "<style scoped>\n",
       "    .dataframe tbody tr th:only-of-type {\n",
       "        vertical-align: middle;\n",
       "    }\n",
       "\n",
       "    .dataframe tbody tr th {\n",
       "        vertical-align: top;\n",
       "    }\n",
       "\n",
       "    .dataframe thead th {\n",
       "        text-align: right;\n",
       "    }\n",
       "</style>\n",
       "<table border=\"1\" class=\"dataframe\">\n",
       "  <thead>\n",
       "    <tr style=\"text-align: right;\">\n",
       "      <th></th>\n",
       "      <th>accuracy</th>\n",
       "      <th>logical</th>\n",
       "      <th>clarity</th>\n",
       "      <th>detail</th>\n",
       "      <th>relevancy</th>\n",
       "    </tr>\n",
       "  </thead>\n",
       "  <tbody>\n",
       "    <tr>\n",
       "      <th>accuracy</th>\n",
       "      <td>1.000000</td>\n",
       "      <td>0.894798</td>\n",
       "      <td>0.869295</td>\n",
       "      <td>0.749288</td>\n",
       "      <td>-0.430470</td>\n",
       "    </tr>\n",
       "    <tr>\n",
       "      <th>logical</th>\n",
       "      <td>0.894798</td>\n",
       "      <td>1.000000</td>\n",
       "      <td>0.834143</td>\n",
       "      <td>0.742817</td>\n",
       "      <td>-0.370144</td>\n",
       "    </tr>\n",
       "    <tr>\n",
       "      <th>clarity</th>\n",
       "      <td>0.869295</td>\n",
       "      <td>0.834143</td>\n",
       "      <td>1.000000</td>\n",
       "      <td>0.839492</td>\n",
       "      <td>-0.563807</td>\n",
       "    </tr>\n",
       "    <tr>\n",
       "      <th>detail</th>\n",
       "      <td>0.749288</td>\n",
       "      <td>0.742817</td>\n",
       "      <td>0.839492</td>\n",
       "      <td>1.000000</td>\n",
       "      <td>-0.550805</td>\n",
       "    </tr>\n",
       "    <tr>\n",
       "      <th>relevancy</th>\n",
       "      <td>-0.430470</td>\n",
       "      <td>-0.370144</td>\n",
       "      <td>-0.563807</td>\n",
       "      <td>-0.550805</td>\n",
       "      <td>1.000000</td>\n",
       "    </tr>\n",
       "  </tbody>\n",
       "</table>\n",
       "</div>"
      ],
      "text/plain": [
       "           accuracy   logical   clarity    detail  relevancy\n",
       "accuracy   1.000000  0.894798  0.869295  0.749288  -0.430470\n",
       "logical    0.894798  1.000000  0.834143  0.742817  -0.370144\n",
       "clarity    0.869295  0.834143  1.000000  0.839492  -0.563807\n",
       "detail     0.749288  0.742817  0.839492  1.000000  -0.550805\n",
       "relevancy -0.430470 -0.370144 -0.563807 -0.550805   1.000000"
      ]
     },
     "execution_count": 22,
     "metadata": {},
     "output_type": "execute_result"
    }
   ],
   "source": [
    "df.corr()"
   ]
  },
  {
   "cell_type": "code",
   "execution_count": 34,
   "id": "419fbcf9",
   "metadata": {},
   "outputs": [
    {
     "data": {
      "text/plain": [
       "-0.9490861900614873"
      ]
     },
     "execution_count": 34,
     "metadata": {},
     "output_type": "execute_result"
    }
   ],
   "source": [
    "cond1 = ((df.relevancy != 3) & (df.detail != 3))\n",
    "cond2 = (df.detail != 4)\n",
    "\n",
    "df.loc[cond1]['relevancy'].corr(df.loc[cond1]['detail'])"
   ]
  },
  {
   "cell_type": "code",
   "execution_count": 27,
   "id": "c32d0e89",
   "metadata": {},
   "outputs": [
    {
     "data": {
      "text/html": [
       "<div>\n",
       "<style scoped>\n",
       "    .dataframe tbody tr th:only-of-type {\n",
       "        vertical-align: middle;\n",
       "    }\n",
       "\n",
       "    .dataframe tbody tr th {\n",
       "        vertical-align: top;\n",
       "    }\n",
       "\n",
       "    .dataframe thead th {\n",
       "        text-align: right;\n",
       "    }\n",
       "</style>\n",
       "<table border=\"1\" class=\"dataframe\">\n",
       "  <thead>\n",
       "    <tr style=\"text-align: right;\">\n",
       "      <th></th>\n",
       "      <th></th>\n",
       "      <th>detail</th>\n",
       "      <th>relevancy</th>\n",
       "    </tr>\n",
       "    <tr>\n",
       "      <th>experiment</th>\n",
       "      <th></th>\n",
       "      <th></th>\n",
       "      <th></th>\n",
       "    </tr>\n",
       "  </thead>\n",
       "  <tbody>\n",
       "    <tr>\n",
       "      <th rowspan=\"2\" valign=\"top\">13b</th>\n",
       "      <th>detail</th>\n",
       "      <td>1.000000</td>\n",
       "      <td>-0.030955</td>\n",
       "    </tr>\n",
       "    <tr>\n",
       "      <th>relevancy</th>\n",
       "      <td>-0.030955</td>\n",
       "      <td>1.000000</td>\n",
       "    </tr>\n",
       "    <tr>\n",
       "      <th rowspan=\"2\" valign=\"top\">7b</th>\n",
       "      <th>detail</th>\n",
       "      <td>1.000000</td>\n",
       "      <td>0.020006</td>\n",
       "    </tr>\n",
       "    <tr>\n",
       "      <th>relevancy</th>\n",
       "      <td>0.020006</td>\n",
       "      <td>1.000000</td>\n",
       "    </tr>\n",
       "    <tr>\n",
       "      <th rowspan=\"2\" valign=\"top\">nonvis</th>\n",
       "      <th>detail</th>\n",
       "      <td>1.000000</td>\n",
       "      <td>0.105437</td>\n",
       "    </tr>\n",
       "    <tr>\n",
       "      <th>relevancy</th>\n",
       "      <td>0.105437</td>\n",
       "      <td>1.000000</td>\n",
       "    </tr>\n",
       "    <tr>\n",
       "      <th rowspan=\"2\" valign=\"top\">sc</th>\n",
       "      <th>detail</th>\n",
       "      <td>1.000000</td>\n",
       "      <td>0.111222</td>\n",
       "    </tr>\n",
       "    <tr>\n",
       "      <th>relevancy</th>\n",
       "      <td>0.111222</td>\n",
       "      <td>1.000000</td>\n",
       "    </tr>\n",
       "  </tbody>\n",
       "</table>\n",
       "</div>"
      ],
      "text/plain": [
       "                        detail  relevancy\n",
       "experiment                               \n",
       "13b        detail     1.000000  -0.030955\n",
       "           relevancy -0.030955   1.000000\n",
       "7b         detail     1.000000   0.020006\n",
       "           relevancy  0.020006   1.000000\n",
       "nonvis     detail     1.000000   0.105437\n",
       "           relevancy  0.105437   1.000000\n",
       "sc         detail     1.000000   0.111222\n",
       "           relevancy  0.111222   1.000000"
      ]
     },
     "execution_count": 27,
     "metadata": {},
     "output_type": "execute_result"
    }
   ],
   "source": []
  }
 ],
 "metadata": {
  "kernelspec": {
   "display_name": "Patrick (Main)",
   "language": "python",
   "name": "main_env"
  },
  "language_info": {
   "codemirror_mode": {
    "name": "ipython",
    "version": 3
   },
   "file_extension": ".py",
   "mimetype": "text/x-python",
   "name": "python",
   "nbconvert_exporter": "python",
   "pygments_lexer": "ipython3",
   "version": "3.8.13"
  }
 },
 "nbformat": 4,
 "nbformat_minor": 5
}
