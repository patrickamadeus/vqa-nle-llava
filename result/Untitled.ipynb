{
 "cells": [
  {
   "cell_type": "code",
   "execution_count": 44,
   "id": "ff2dac9e-f7f7-4f31-bef4-8a682f5216a9",
   "metadata": {},
   "outputs": [],
   "source": [
    "import json\n",
    "import pandas as pd"
   ]
  },
  {
   "cell_type": "code",
   "execution_count": 54,
   "id": "61f94e06-8c4f-47ae-b733-f9bcf7c54c61",
   "metadata": {},
   "outputs": [],
   "source": [
    "import json\n",
    "import pandas as pd\n",
    "\n",
    "l = ['naive-p-small', 'naive-p-medium', 'seq-ensemble-p', 'naive-viz-p']\n",
    "SEED = 42\n",
    "\n",
    "for tc in l:\n",
    "    file_path = f\"{tc}/res.json\"\n",
    "    \n",
    "    with open(file_path, 'r') as file:\n",
    "        data = json.load(file)\n",
    "\n",
    "    df = pd.DataFrame(data)\n",
    "\n",
    "    df = df.sample(50, random_state=SEED)\n",
    "    \n",
    "    # Add the new columns\n",
    "    df['accuracy'] = ''\n",
    "    df['logic'] = ''\n",
    "    df['clarity'] = ''\n",
    "    df['detail'] = ''\n",
    "    df['relevancy'] = ''\n",
    "\n",
    "    # Reorder the columns so that the new columns come first\n",
    "    df = df[['accuracy', 'logic', 'clarity', 'detail', 'relevancy'] + df.columns[:-5].tolist()]\n",
    "\n",
    "    # Save the DataFrame to an Excel file\n",
    "    df.to_excel(f'{tc}-assess.xlsx')\n"
   ]
  },
  {
   "cell_type": "code",
   "execution_count": 42,
   "id": "b929c5e4-be72-4a46-bfd6-2ba6a5f4bc53",
   "metadata": {},
   "outputs": [],
   "source": [
    "import pandas as pd\n",
    "\n",
    "df = pd.DataFrame(data)\n",
    "df['reasoned_answer'] = ''"
   ]
  },
  {
   "cell_type": "code",
   "execution_count": 43,
   "id": "78859e67-4363-4b71-a7b7-000a6b2ce9b0",
   "metadata": {},
   "outputs": [],
   "source": [
    "df.to_csv('seq-ensemble-p_new.csv')"
   ]
  },
  {
   "cell_type": "code",
   "execution_count": 45,
   "id": "f71475fe-4cde-4902-b73f-520aa4538a4a",
   "metadata": {},
   "outputs": [
    {
     "data": {
      "text/html": [
       "<div>\n",
       "<style scoped>\n",
       "    .dataframe tbody tr th:only-of-type {\n",
       "        vertical-align: middle;\n",
       "    }\n",
       "\n",
       "    .dataframe tbody tr th {\n",
       "        vertical-align: top;\n",
       "    }\n",
       "\n",
       "    .dataframe thead th {\n",
       "        text-align: right;\n",
       "    }\n",
       "</style>\n",
       "<table border=\"1\" class=\"dataframe\">\n",
       "  <thead>\n",
       "    <tr style=\"text-align: right;\">\n",
       "      <th></th>\n",
       "      <th>id</th>\n",
       "      <th>img_id</th>\n",
       "      <th>question</th>\n",
       "      <th>short_answer</th>\n",
       "      <th>reasoned_answer</th>\n",
       "    </tr>\n",
       "  </thead>\n",
       "  <tbody>\n",
       "    <tr>\n",
       "      <th>0</th>\n",
       "      <td>1</td>\n",
       "      <td>1072.jpg</td>\n",
       "      <td>What is the purpose of the bike being locked t...</td>\n",
       "      <td>To prevent theft</td>\n",
       "      <td></td>\n",
       "    </tr>\n",
       "    <tr>\n",
       "      <th>1</th>\n",
       "      <td>2</td>\n",
       "      <td>1072.jpg</td>\n",
       "      <td>How many bicycles are parked at the bike rack?</td>\n",
       "      <td>1</td>\n",
       "      <td></td>\n",
       "    </tr>\n",
       "    <tr>\n",
       "      <th>2</th>\n",
       "      <td>3</td>\n",
       "      <td>1072.jpg</td>\n",
       "      <td>What is the purpose of the bike being locked t...</td>\n",
       "      <td>To prevent theft</td>\n",
       "      <td></td>\n",
       "    </tr>\n",
       "    <tr>\n",
       "      <th>3</th>\n",
       "      <td>4</td>\n",
       "      <td>1159351.jpg</td>\n",
       "      <td>What is the purpose of the men playing video g...</td>\n",
       "      <td>Promote video games in museum.</td>\n",
       "      <td></td>\n",
       "    </tr>\n",
       "    <tr>\n",
       "      <th>4</th>\n",
       "      <td>5</td>\n",
       "      <td>1159351.jpg</td>\n",
       "      <td>What is the purpose of the men playing video g...</td>\n",
       "      <td>Promote video games in museum.</td>\n",
       "      <td></td>\n",
       "    </tr>\n",
       "  </tbody>\n",
       "</table>\n",
       "</div>"
      ],
      "text/plain": [
       "   id       img_id                                           question  \\\n",
       "0   1     1072.jpg  What is the purpose of the bike being locked t...   \n",
       "1   2     1072.jpg     How many bicycles are parked at the bike rack?   \n",
       "2   3     1072.jpg  What is the purpose of the bike being locked t...   \n",
       "3   4  1159351.jpg  What is the purpose of the men playing video g...   \n",
       "4   5  1159351.jpg  What is the purpose of the men playing video g...   \n",
       "\n",
       "                     short_answer reasoned_answer  \n",
       "0                To prevent theft                  \n",
       "1                               1                  \n",
       "2                To prevent theft                  \n",
       "3  Promote video games in museum.                  \n",
       "4  Promote video games in museum.                  "
      ]
     },
     "execution_count": 45,
     "metadata": {},
     "output_type": "execute_result"
    }
   ],
   "source": [
    "df.head()"
   ]
  }
 ],
 "metadata": {
  "kernelspec": {
   "display_name": "main_env",
   "language": "python",
   "name": "main_env"
  },
  "language_info": {
   "codemirror_mode": {
    "name": "ipython",
    "version": 3
   },
   "file_extension": ".py",
   "mimetype": "text/x-python",
   "name": "python",
   "nbconvert_exporter": "python",
   "pygments_lexer": "ipython3",
   "version": "3.11.5"
  }
 },
 "nbformat": 4,
 "nbformat_minor": 5
}
